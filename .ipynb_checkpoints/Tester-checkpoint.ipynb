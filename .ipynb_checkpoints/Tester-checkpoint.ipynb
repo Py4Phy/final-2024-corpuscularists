{
 "cells": [
  {
   "cell_type": "code",
   "execution_count": 1,
   "id": "4cc81063-8319-4c59-82ac-562ff9b40435",
   "metadata": {},
   "outputs": [],
   "source": [
    "import numpy as np\n",
    "import seaborn as sns\n",
    "import matplotlib.pyplot as plt\n",
    "from matplotlib import cm # Color maps\n",
    "from projFuncs import *\n",
    "from processImg import *\n",
    "import PIL\n",
    "from PIL import Image as Im"
   ]
  },
  {
   "cell_type": "code",
   "execution_count": 2,
   "id": "a92b3426-d3ec-4899-9b9d-5a8141bb2da8",
   "metadata": {},
   "outputs": [],
   "source": [
    "### Using geometrized units; c=G=1.\n",
    "\n",
    "pixel_length = 1000\n",
    "x1 = -1000 # location of where we observe the final image\n",
    "x2 = 1000 # location of the initial image. Keep it a positive number and the final image at a negative location for later parts of this program to work."
   ]
  },
  {
   "cell_type": "code",
   "execution_count": 105,
   "id": "621a87bc-6df3-452b-a966-cf4bb73167f2",
   "metadata": {},
   "outputs": [],
   "source": [
    "# set image position(s)\n",
    "initialImage = imageTakeInner('small_test_image.png')\n",
    "finalImage = np.zeros(initialImage.shape)\n",
    "y_size, z_size, x_size = initialImage.shape\n",
    "y_positions = np.arange(0, y_size, 1)\n",
    "z_positions = np.arange(0, z_size, 1)\n",
    "y_positions = pixel_length*(y_positions - y_size/2)\n",
    "z_positions = pixel_length*(z_positions - z_size/2)\n",
    "y_center = pixel_length*y_size/2\n",
    "z_center = pixel_length*z_size/2"
   ]
  },
  {
   "cell_type": "code",
   "execution_count": 59,
   "id": "ac38450f-5c33-486b-85c0-0325653fc274",
   "metadata": {},
   "outputs": [
    {
     "name": "stdout",
     "output_type": "stream",
     "text": [
      "Finished.\n"
     ]
    }
   ],
   "source": [
    "for i in range(y_size):\n",
    "    for j in range(x_size):\n",
    "        z = z_positions[j]\n",
    "        y = y_positions[i]\n",
    "        d = np.sqrt(y**2 + z**2)\n",
    "        COSPSI = y/d\n",
    "        SINPSI = z/d\n",
    "        x = x1\n",
    "        vx = 1\n",
    "        vy = 0\n",
    "        vz = 0\n",
    "        u = integrate_EOM(np.array([x,d,0]), np.array([vx,vy,vz])) # the arguments are rotated to be in the xy plane\n",
    "        U = sph2cart(u[1],u[2],u[3],u[4],u[5],u[6])\n",
    "        temporary = COSPSI*U[1] - SINPSI*U[2]\n",
    "        U[2][:] = SINPSI*U[1] + COSPSI*U[2]\n",
    "        U[1][:] = temporary\n",
    "        Upu = U[:][-2] # penultimate\n",
    "        Uu = U[:][-1] # ultimate\n",
    "        if ((Uu[0] - x2) >= 0):\n",
    "            k,l = findPixel(y_center, z_center, x2, pixel_length, Upu[:3], Upu[3:])\n",
    "            if (k > -1) and (k < y_size) and (l > -1) and (l < z_size):\n",
    "                finalImage[i][j][:] = initialImage[k][l][:]\n",
    "\n",
    "print('Finished.')"
   ]
  },
  {
   "cell_type": "code",
   "execution_count": 60,
   "id": "0a5f430a-8c83-4e19-b962-9ea4d06326e7",
   "metadata": {},
   "outputs": [],
   "source": [
    "outputImage = Im.fromarray(finalImageArray[0][0][:3], mode=\"RGB\")\n",
    "outputImage.show()\n",
    "outputImage.save('Lensed_small_test_image.png')"
   ]
  },
  {
   "cell_type": "code",
   "execution_count": 106,
   "id": "19fae3eb-1ef9-40fa-84cb-b97980a41e16",
   "metadata": {},
   "outputs": [
    {
     "name": "stdout",
     "output_type": "stream",
     "text": [
      "Finished.\n"
     ]
    }
   ],
   "source": [
    "for i in range(y_size):\n",
    "    for j in range(z_size):\n",
    "        z = z_positions[j]\n",
    "        y = y_positions[i]\n",
    "        d = np.sqrt(y**2 + z**2)\n",
    "        x = x1\n",
    "        vx = 1\n",
    "        vy = 0\n",
    "        vz = 0\n",
    "        k,l = findPixel(y_center, z_center, x2, pixel_length, np.array([x,y,z]), np.array([vx,vy,vz]))\n",
    "        if (k > -1) and (k < y_size) and (l > -1) and (l < z_size):\n",
    "            finalImage[i][j][:] = initialImage[k][l][:]\n",
    "print(\"Finished.\")"
   ]
  },
  {
   "cell_type": "code",
   "execution_count": 107,
   "id": "80ebd740-b101-4511-8f76-7a3904557297",
   "metadata": {},
   "outputs": [],
   "source": [
    "outputImage = Im.fromarray(finalImage[0][0][:], mode=\"RGBA\")\n",
    "outputImage.show()"
   ]
  },
  {
   "cell_type": "code",
   "execution_count": 108,
   "id": "80af3e81-7e66-40cd-82e7-f89b8db9ac78",
   "metadata": {},
   "outputs": [
    {
     "ename": "ValueError",
     "evalue": "buffer is not large enough",
     "output_type": "error",
     "traceback": [
      "\u001b[1;31m---------------------------------------------------------------------------\u001b[0m",
      "\u001b[1;31mValueError\u001b[0m                                Traceback (most recent call last)",
      "Cell \u001b[1;32mIn[108], line 1\u001b[0m\n\u001b[1;32m----> 1\u001b[0m check \u001b[38;5;241m=\u001b[39m Im\u001b[38;5;241m.\u001b[39mfromarray(initialImage[\u001b[38;5;241m0\u001b[39m][\u001b[38;5;241m0\u001b[39m][:], mode\u001b[38;5;241m=\u001b[39m\u001b[38;5;124m\"\u001b[39m\u001b[38;5;124mRGBA\u001b[39m\u001b[38;5;124m\"\u001b[39m)\n\u001b[0;32m      2\u001b[0m check\u001b[38;5;241m.\u001b[39mshow()\n",
      "File \u001b[1;32m~\\Anaconda3\\Lib\\site-packages\\PIL\\Image.py:3093\u001b[0m, in \u001b[0;36mfromarray\u001b[1;34m(obj, mode)\u001b[0m\n\u001b[0;32m   3090\u001b[0m     \u001b[38;5;28;01melse\u001b[39;00m:\n\u001b[0;32m   3091\u001b[0m         obj \u001b[38;5;241m=\u001b[39m obj\u001b[38;5;241m.\u001b[39mtostring()\n\u001b[1;32m-> 3093\u001b[0m \u001b[38;5;28;01mreturn\u001b[39;00m frombuffer(mode, size, obj, \u001b[38;5;124m\"\u001b[39m\u001b[38;5;124mraw\u001b[39m\u001b[38;5;124m\"\u001b[39m, rawmode, \u001b[38;5;241m0\u001b[39m, \u001b[38;5;241m1\u001b[39m)\n",
      "File \u001b[1;32m~\\Anaconda3\\Lib\\site-packages\\PIL\\Image.py:3001\u001b[0m, in \u001b[0;36mfrombuffer\u001b[1;34m(mode, size, data, decoder_name, *args)\u001b[0m\n\u001b[0;32m   2999\u001b[0m \u001b[38;5;28;01mif\u001b[39;00m args[\u001b[38;5;241m0\u001b[39m] \u001b[38;5;129;01min\u001b[39;00m _MAPMODES:\n\u001b[0;32m   3000\u001b[0m     im \u001b[38;5;241m=\u001b[39m new(mode, (\u001b[38;5;241m1\u001b[39m, \u001b[38;5;241m1\u001b[39m))\n\u001b[1;32m-> 3001\u001b[0m     im \u001b[38;5;241m=\u001b[39m im\u001b[38;5;241m.\u001b[39m_new(core\u001b[38;5;241m.\u001b[39mmap_buffer(data, size, decoder_name, \u001b[38;5;241m0\u001b[39m, args))\n\u001b[0;32m   3002\u001b[0m     \u001b[38;5;28;01mif\u001b[39;00m mode \u001b[38;5;241m==\u001b[39m \u001b[38;5;124m\"\u001b[39m\u001b[38;5;124mP\u001b[39m\u001b[38;5;124m\"\u001b[39m:\n\u001b[0;32m   3003\u001b[0m         \u001b[38;5;28;01mfrom\u001b[39;00m \u001b[38;5;21;01m.\u001b[39;00m \u001b[38;5;28;01mimport\u001b[39;00m ImagePalette\n",
      "\u001b[1;31mValueError\u001b[0m: buffer is not large enough"
     ]
    }
   ],
   "source": [
    "check = Im.fromarray(initialImage[0][0][:], mode=\"RGBA\")\n",
    "check.show()"
   ]
  },
  {
   "cell_type": "code",
   "execution_count": 91,
   "id": "52c09801-175b-4231-921b-9e14292cc02c",
   "metadata": {},
   "outputs": [
    {
     "data": {
      "text/plain": [
       "(160, 240, 4)"
      ]
     },
     "execution_count": 91,
     "metadata": {},
     "output_type": "execute_result"
    }
   ],
   "source": [
    "initialImage.shape"
   ]
  },
  {
   "cell_type": "code",
   "execution_count": 89,
   "id": "0c5d308a-ec60-4b14-a969-c2350d3f2442",
   "metadata": {},
   "outputs": [
    {
     "data": {
      "text/plain": [
       "(160, 240, 4)"
      ]
     },
     "execution_count": 89,
     "metadata": {},
     "output_type": "execute_result"
    }
   ],
   "source": [
    "finalImage.shape"
   ]
  },
  {
   "cell_type": "code",
   "execution_count": 96,
   "id": "3d212839-f5b1-461a-9054-8645b23e21ac",
   "metadata": {},
   "outputs": [
    {
     "data": {
      "text/plain": [
       "255"
      ]
     },
     "execution_count": 96,
     "metadata": {},
     "output_type": "execute_result"
    }
   ],
   "source": [
    "np.max(initialImage)"
   ]
  },
  {
   "cell_type": "code",
   "execution_count": 97,
   "id": "5a95bc64-4dd8-47eb-b559-07242036fdf3",
   "metadata": {},
   "outputs": [
    {
     "data": {
      "text/plain": [
       "255.0"
      ]
     },
     "execution_count": 97,
     "metadata": {},
     "output_type": "execute_result"
    }
   ],
   "source": [
    "np.max(finalImage)"
   ]
  },
  {
   "cell_type": "code",
   "execution_count": 99,
   "id": "f14f728d-7290-465b-b012-c0fbf1e3b6fe",
   "metadata": {},
   "outputs": [
    {
     "data": {
      "text/plain": [
       "array([[[255., 255., 255., 255.],\n",
       "        [255., 255., 255., 255.],\n",
       "        [255., 255., 255., 255.],\n",
       "        ...,\n",
       "        [255., 255., 255., 255.],\n",
       "        [255., 255., 255., 255.],\n",
       "        [255., 255., 255., 255.]],\n",
       "\n",
       "       [[255., 255., 255., 255.],\n",
       "        [255., 255., 255., 255.],\n",
       "        [255., 255., 255., 255.],\n",
       "        ...,\n",
       "        [255., 255., 255., 255.],\n",
       "        [255., 255., 255., 255.],\n",
       "        [255., 255., 255., 255.]],\n",
       "\n",
       "       [[255., 255., 255., 255.],\n",
       "        [255., 255., 255., 255.],\n",
       "        [255., 255., 255., 255.],\n",
       "        ...,\n",
       "        [255., 255., 255., 255.],\n",
       "        [255., 255., 255., 255.],\n",
       "        [255., 255., 255., 255.]],\n",
       "\n",
       "       ...,\n",
       "\n",
       "       [[255., 255., 255., 255.],\n",
       "        [255., 255., 255., 255.],\n",
       "        [255., 255., 255., 255.],\n",
       "        ...,\n",
       "        [255., 255., 255., 255.],\n",
       "        [255., 255., 255., 255.],\n",
       "        [255., 255., 255., 255.]],\n",
       "\n",
       "       [[255., 255., 255., 255.],\n",
       "        [255., 255., 255., 255.],\n",
       "        [255., 255., 255., 255.],\n",
       "        ...,\n",
       "        [255., 255., 255., 255.],\n",
       "        [255., 255., 255., 255.],\n",
       "        [255., 255., 255., 255.]],\n",
       "\n",
       "       [[255., 255., 255., 255.],\n",
       "        [255., 255., 255., 255.],\n",
       "        [255., 255., 255., 255.],\n",
       "        ...,\n",
       "        [255., 255., 255., 255.],\n",
       "        [255., 255., 255., 255.],\n",
       "        [255., 255., 255., 255.]]])"
      ]
     },
     "execution_count": 99,
     "metadata": {},
     "output_type": "execute_result"
    }
   ],
   "source": [
    "finalImage"
   ]
  },
  {
   "cell_type": "code",
   "execution_count": null,
   "id": "ace8ca73-9ddd-491a-839e-4be8bda5d0fe",
   "metadata": {},
   "outputs": [],
   "source": []
  }
 ],
 "metadata": {
  "kernelspec": {
   "display_name": "Python 3 (ipykernel)",
   "language": "python",
   "name": "python3"
  },
  "language_info": {
   "codemirror_mode": {
    "name": "ipython",
    "version": 3
   },
   "file_extension": ".py",
   "mimetype": "text/x-python",
   "name": "python",
   "nbconvert_exporter": "python",
   "pygments_lexer": "ipython3",
   "version": "3.11.5"
  }
 },
 "nbformat": 4,
 "nbformat_minor": 5
}
