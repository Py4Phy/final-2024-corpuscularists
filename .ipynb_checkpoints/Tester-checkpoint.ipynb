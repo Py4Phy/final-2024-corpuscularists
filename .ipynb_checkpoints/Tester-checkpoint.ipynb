{
 "cells": [
  {
   "cell_type": "code",
   "execution_count": 1,
   "id": "4cc81063-8319-4c59-82ac-562ff9b40435",
   "metadata": {},
   "outputs": [],
   "source": [
    "import numpy as np\n",
    "import seaborn as sns\n",
    "import matplotlib.pyplot as plt\n",
    "from matplotlib import cm # Color maps\n",
    "from projFuncs import *\n",
    "from processImg import *\n",
    "import PIL\n",
    "from PIL import Image as Im"
   ]
  },
  {
   "cell_type": "code",
   "execution_count": 30,
   "id": "a92b3426-d3ec-4899-9b9d-5a8141bb2da8",
   "metadata": {},
   "outputs": [],
   "source": [
    "### Using geometrized units; c=G=1.\n",
    "\n",
    "pixel_length = 1\n",
    "x1 = -1000 # location of where we observe the final image\n",
    "x2 = 1000 # location of the initial image. Keep it a positive number and the final image at a negative location for later parts of this program to work."
   ]
  },
  {
   "cell_type": "code",
   "execution_count": 31,
   "id": "621a87bc-6df3-452b-a966-cf4bb73167f2",
   "metadata": {},
   "outputs": [],
   "source": [
    "# set image position(s)\n",
    "initialImage = imageTakeInner('small_test_image.png')\n",
    "finalImage = np.zeros(initialImage.shape)\n",
    "y_size, z_size, x_size = initialImage.shape\n",
    "y_positions = np.arange(0, y_size, 1)\n",
    "z_positions = np.arange(0, z_size, 1)\n",
    "y_positions = pixel_length*(y_positions - y_size/2)\n",
    "z_positions = pixel_length*(z_positions - z_size/2)\n",
    "y_center = pixel_length*y_size/2\n",
    "z_center = pixel_length*z_size/2"
   ]
  },
  {
   "cell_type": "code",
   "execution_count": 32,
   "id": "ac38450f-5c33-486b-85c0-0325653fc274",
   "metadata": {},
   "outputs": [],
   "source": [
    "for i in range(y_size):\n",
    "    for j in range(x_size):\n",
    "        z = z_positions[j]\n",
    "        y = y_positions[i]\n",
    "        d = np.sqrt(y**2 + z**2)\n",
    "        COSPSI = y/d\n",
    "        SINPSI = z/d\n",
    "        x = x1\n",
    "        vx = 1\n",
    "        vy = 0\n",
    "        vz = 0\n",
    "        u = integrate_EOM(np.array([x,d,0]), np.array([vx,vy,vz])) # the arguments are rotated to be in the xy plane\n",
    "        U = sph2cart(u[1],u[2],u[3],u[4],u[5],u[6])\n",
    "        temporary = COSPSI*U[1] - SINPSI*U[2]\n",
    "        U[2][:] = SINPSI*U[1] + COSPSI*U[2]\n",
    "        U[1][:] = temporary\n",
    "        Upu = U[:][-2] # penultimate\n",
    "        Uu = U[:][-1] # ultimate\n",
    "        if ((Uu[0] - x2) >= 0):\n",
    "            k,l = findPixel(y_center, z_center, x2, pixel_length, Upu[:3], Upu[3:])\n",
    "            finalImage[i][j][:] = initialImage[k][l][:]"
   ]
  },
  {
   "cell_type": "code",
   "execution_count": 34,
   "id": "b1ee7839-d4f7-4e4d-8f22-c00695a42cf2",
   "metadata": {},
   "outputs": [],
   "source": [
    "outputImage = Im.fromarray(finalImage[0][0][:])\n",
    "outputImage.show()"
   ]
  },
  {
   "cell_type": "code",
   "execution_count": 35,
   "id": "3eb706f5-dd9f-4b09-a947-21301938b10e",
   "metadata": {},
   "outputs": [
    {
     "ename": "OSError",
     "evalue": "cannot write mode F as PNG",
     "output_type": "error",
     "traceback": [
      "\u001b[1;31m---------------------------------------------------------------------------\u001b[0m",
      "\u001b[1;31mKeyError\u001b[0m                                  Traceback (most recent call last)",
      "File \u001b[1;32m~\\Anaconda3\\Lib\\site-packages\\PIL\\PngImagePlugin.py:1277\u001b[0m, in \u001b[0;36m_save\u001b[1;34m(im, fp, filename, chunk, save_all)\u001b[0m\n\u001b[0;32m   1276\u001b[0m \u001b[38;5;28;01mtry\u001b[39;00m:\n\u001b[1;32m-> 1277\u001b[0m     rawmode, mode \u001b[38;5;241m=\u001b[39m _OUTMODES[mode]\n\u001b[0;32m   1278\u001b[0m \u001b[38;5;28;01mexcept\u001b[39;00m \u001b[38;5;167;01mKeyError\u001b[39;00m \u001b[38;5;28;01mas\u001b[39;00m e:\n",
      "\u001b[1;31mKeyError\u001b[0m: 'F'",
      "\nThe above exception was the direct cause of the following exception:\n",
      "\u001b[1;31mOSError\u001b[0m                                   Traceback (most recent call last)",
      "Cell \u001b[1;32mIn[35], line 1\u001b[0m\n\u001b[1;32m----> 1\u001b[0m outputImage\u001b[38;5;241m.\u001b[39msave(\u001b[38;5;124m'\u001b[39m\u001b[38;5;124mLensed_small_test_image.png\u001b[39m\u001b[38;5;124m'\u001b[39m)\n",
      "File \u001b[1;32m~\\Anaconda3\\Lib\\site-packages\\PIL\\Image.py:2413\u001b[0m, in \u001b[0;36mImage.save\u001b[1;34m(self, fp, format, **params)\u001b[0m\n\u001b[0;32m   2410\u001b[0m         fp \u001b[38;5;241m=\u001b[39m builtins\u001b[38;5;241m.\u001b[39mopen(filename, \u001b[38;5;124m\"\u001b[39m\u001b[38;5;124mw+b\u001b[39m\u001b[38;5;124m\"\u001b[39m)\n\u001b[0;32m   2412\u001b[0m \u001b[38;5;28;01mtry\u001b[39;00m:\n\u001b[1;32m-> 2413\u001b[0m     save_handler(\u001b[38;5;28mself\u001b[39m, fp, filename)\n\u001b[0;32m   2414\u001b[0m \u001b[38;5;28;01mexcept\u001b[39;00m \u001b[38;5;167;01mException\u001b[39;00m:\n\u001b[0;32m   2415\u001b[0m     \u001b[38;5;28;01mif\u001b[39;00m open_fp:\n",
      "File \u001b[1;32m~\\Anaconda3\\Lib\\site-packages\\PIL\\PngImagePlugin.py:1280\u001b[0m, in \u001b[0;36m_save\u001b[1;34m(im, fp, filename, chunk, save_all)\u001b[0m\n\u001b[0;32m   1278\u001b[0m \u001b[38;5;28;01mexcept\u001b[39;00m \u001b[38;5;167;01mKeyError\u001b[39;00m \u001b[38;5;28;01mas\u001b[39;00m e:\n\u001b[0;32m   1279\u001b[0m     msg \u001b[38;5;241m=\u001b[39m \u001b[38;5;124mf\u001b[39m\u001b[38;5;124m\"\u001b[39m\u001b[38;5;124mcannot write mode \u001b[39m\u001b[38;5;132;01m{\u001b[39;00mmode\u001b[38;5;132;01m}\u001b[39;00m\u001b[38;5;124m as PNG\u001b[39m\u001b[38;5;124m\"\u001b[39m\n\u001b[1;32m-> 1280\u001b[0m     \u001b[38;5;28;01mraise\u001b[39;00m \u001b[38;5;167;01mOSError\u001b[39;00m(msg) \u001b[38;5;28;01mfrom\u001b[39;00m \u001b[38;5;21;01me\u001b[39;00m\n\u001b[0;32m   1282\u001b[0m \u001b[38;5;66;03m#\u001b[39;00m\n\u001b[0;32m   1283\u001b[0m \u001b[38;5;66;03m# write minimal PNG file\u001b[39;00m\n\u001b[0;32m   1285\u001b[0m fp\u001b[38;5;241m.\u001b[39mwrite(_MAGIC)\n",
      "\u001b[1;31mOSError\u001b[0m: cannot write mode F as PNG"
     ]
    }
   ],
   "source": [
    "outputImage.save('Lensed_small_test_image.png')"
   ]
  },
  {
   "cell_type": "code",
   "execution_count": null,
   "id": "89741923-cb54-42f9-b345-ab3eeec88feb",
   "metadata": {},
   "outputs": [],
   "source": []
  }
 ],
 "metadata": {
  "kernelspec": {
   "display_name": "Python 3 (ipykernel)",
   "language": "python",
   "name": "python3"
  },
  "language_info": {
   "codemirror_mode": {
    "name": "ipython",
    "version": 3
   },
   "file_extension": ".py",
   "mimetype": "text/x-python",
   "name": "python",
   "nbconvert_exporter": "python",
   "pygments_lexer": "ipython3",
   "version": "3.11.5"
  }
 },
 "nbformat": 4,
 "nbformat_minor": 5
}
