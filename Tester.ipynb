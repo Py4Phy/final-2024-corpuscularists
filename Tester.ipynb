{
 "cells": [
  {
   "cell_type": "code",
   "execution_count": null,
   "id": "4cc81063-8319-4c59-82ac-562ff9b40435",
   "metadata": {},
   "outputs": [],
   "source": [
    "import numpy as np\n",
    "import seaborn as sns\n",
    "import matplotlib.pyplot as plt\n",
    "from matplotlib import cm # Color maps\n",
    "from projFuncs import *\n",
    "from processImg import *\n",
    "import PIL\n",
    "from PIL import Image as Im"
   ]
  },
  {
   "cell_type": "code",
   "execution_count": null,
   "id": "a92b3426-d3ec-4899-9b9d-5a8141bb2da8",
   "metadata": {},
   "outputs": [],
   "source": [
    "### Using geometrized units; c=G=1.\n",
    "\n",
    "pixel_length = 100\n",
    "x1 = -6 # location of where we observe the final image\n",
    "x2 = 7 # location of the initial image. Keep it a positive number and the final image at a negative location for later parts of this program to work."
   ]
  },
  {
   "cell_type": "code",
   "execution_count": null,
   "id": "621a87bc-6df3-452b-a966-cf4bb73167f2",
   "metadata": {},
   "outputs": [],
   "source": [
    "# set image position(s)\n",
    "initialImage = imageTakeInner('small_test_image.png')\n",
    "finalImage = np.zeros(initialImage.shape)\n",
    "y_size, z_size, x_size = initialImage.shape\n",
    "y_positions = np.arange(0, y_size, 1)\n",
    "z_positions = np.arange(0, z_size, 1)\n",
    "y_positions = pixel_length*(y_positions - y_size/2)\n",
    "z_positions = pixel_length*(z_positions - z_size/2)\n",
    "y_center = pixel_length*y_size/2\n",
    "z_center = pixel_length*z_size/2"
   ]
  },
  {
   "cell_type": "code",
   "execution_count": null,
   "id": "aadb77bb-3fad-468b-8a5e-a97ad7258613",
   "metadata": {},
   "outputs": [],
   "source": [
    "print(\"Started.\")\n",
    "for i in range(y_size):\n",
    "    for j in range(z_size):\n",
    "        z = z_positions[j]\n",
    "        y = y_positions[i]\n",
    "        x = x1\n",
    "        vx = 1\n",
    "        vy = 0\n",
    "        vz = 0\n",
    "        u = integrate_EOM(np.array([x,y,z]), np.array([vx,vy,vz]))\n",
    "        Upu = u[1:][-2] # penultimate\n",
    "        Uu = u[1:][-1] # ultimate\n",
    "        if ((Uu[0][0] - x2) >= 0):\n",
    "            print(\"Passed.\")\n",
    "            k,l = findPixel(y_center, z_center, x2, pixel_length, Upu[:3][0], Upu[3:][0])\n",
    "            finalImage[i][j][:] = initialImage[k][l][:]\n",
    "print(\"Finished.\")"
   ]
  },
  {
   "cell_type": "code",
   "execution_count": null,
   "id": "b9b4e51c-a367-4f51-a9b2-97241eb22afa",
   "metadata": {},
   "outputs": [],
   "source": []
  }
 ],
 "metadata": {
  "kernelspec": {
   "display_name": "Python 3 (ipykernel)",
   "language": "python",
   "name": "python3"
  },
  "language_info": {
   "codemirror_mode": {
    "name": "ipython",
    "version": 3
   },
   "file_extension": ".py",
   "mimetype": "text/x-python",
   "name": "python",
   "nbconvert_exporter": "python",
   "pygments_lexer": "ipython3",
   "version": "3.11.5"
  }
 },
 "nbformat": 4,
 "nbformat_minor": 5
}
