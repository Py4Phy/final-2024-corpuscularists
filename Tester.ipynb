{
 "cells": [
  {
   "cell_type": "code",
   "execution_count": 7,
   "id": "1cab6da1-9374-4b5c-a8b7-57b834b2bb5c",
   "metadata": {},
   "outputs": [
    {
     "ename": "TypeError",
     "evalue": "sph2cart() missing 4 required positional arguments: 'theta', 'phi', 'vr', and 'vtheta'",
     "output_type": "error",
     "traceback": [
      "\u001b[1;31m---------------------------------------------------------------------------\u001b[0m",
      "\u001b[1;31mTypeError\u001b[0m                                 Traceback (most recent call last)",
      "Cell \u001b[1;32mIn[7], line 22\u001b[0m\n\u001b[0;32m     19\u001b[0m \tvz \u001b[38;5;241m=\u001b[39m vr\u001b[38;5;241m*\u001b[39mnp\u001b[38;5;241m.\u001b[39mcos(theta) \u001b[38;5;241m-\u001b[39m np\u001b[38;5;241m.\u001b[39msin(theta)\n\u001b[0;32m     20\u001b[0m \t\u001b[38;5;28;01mreturn\u001b[39;00m x,y,z,vx,vy,vz\n\u001b[1;32m---> 22\u001b[0m sph2cart(cart2sph(\u001b[38;5;241m-\u001b[39m\u001b[38;5;241m20\u001b[39m,\u001b[38;5;241m20\u001b[39m,\u001b[38;5;241m0\u001b[39m,\u001b[38;5;241m1\u001b[39m,\u001b[38;5;241m0\u001b[39m,\u001b[38;5;241m0\u001b[39m))\n",
      "\u001b[1;31mTypeError\u001b[0m: sph2cart() missing 4 required positional arguments: 'theta', 'phi', 'vr', and 'vtheta'"
     ]
    }
   ],
   "source": [
    "import numpy as np\n",
    "\n",
    "def cart2sph(x,y,z,vx,vy,vz):\n",
    "\tr = np.sqrt(x**2+y**2+z**2)\n",
    "\ttheta = np.arccos(z/r)\n",
    "\tphi = np.sign(y)*np.arccos(x/np.sqrt(x**2+y**2))\n",
    "\tvr = (x*vx + y*vy + z*vz)/r\n",
    "\tvtheta = np.sum(np.array([vx,vy,vz])*np.array([np.cos(theta)*np.cos(phi),np.cos(theta)*np.sin(phi),-np.sin(theta)]))/r # come back and make these trigonometric functions into functions of x, y, z\n",
    "\tvphi = np.sum(np.array([vx,vy,vz])*np.array([-np.sin(phi),np.cos(phi),0]))/np.sqrt(x**2 + y**2)\n",
    "\treturn r,theta,phi,vr,vtheta,vphi\n",
    "\n",
    "def sph2cart(r,theta,phi,vr,vtheta,vphi=0):\n",
    "\tx = r*np.sin(theta)*np.cos(phi)\n",
    "\ty = r*np.sin(theta)*np.sin(phi)\n",
    "\tz = r*np.cos(theta)\n",
    "\trho = r*np.sin(theta)\n",
    "\tvx = vr*np.sin(theta)*np.cos(phi) + r*vtheta*np.cos(theta)*np.cos(phi) - rho*vphi*np.sin(phi)\n",
    "\tvy = vr*np.sin(theta)*np.sin(phi) + r*vtheta*np.cos(theta)*np.sin(phi) + rho*vphi*np.cos(phi)\n",
    "\tvz = vr*np.cos(theta) - np.sin(theta)\n",
    "\treturn x,y,z,vx,vy,vz"
   ]
  },
  {
   "cell_type": "code",
   "execution_count": 6,
   "id": "17042d17-a2d3-4ac7-b171-20da3e7021ab",
   "metadata": {},
   "outputs": [
    {
     "data": {
      "text/plain": [
       "(1.0, 1.5707963267948966, 0.0, 0.0, 1.0, 0.0)"
      ]
     },
     "execution_count": 6,
     "metadata": {},
     "output_type": "execute_result"
    }
   ],
   "source": [
    "cart2sph(1,0,0,0,0,-1)"
   ]
  },
  {
   "cell_type": "code",
   "execution_count": 7,
   "id": "53c9ad19-7443-4e9a-b40f-bd3829151983",
   "metadata": {},
   "outputs": [
    {
     "data": {
      "text/plain": [
       "(1.0, 0.0, 6.123233995736766e-17, 6.123233995736766e-17, 0.0, -1.0)"
      ]
     },
     "execution_count": 7,
     "metadata": {},
     "output_type": "execute_result"
    }
   ],
   "source": [
    "sph2cart(1.0, 1.5707963267948966, 0.0, 0.0, 1.0, 0.0)"
   ]
  },
  {
   "cell_type": "code",
   "execution_count": 8,
   "id": "377b689a-be20-4c1d-85c2-64f2d55a9214",
   "metadata": {},
   "outputs": [
    {
     "data": {
      "text/plain": [
       "(1.0, 0.7853981633974483, 0.0, 0.0, 1.0000000000000002, 0.0)"
      ]
     },
     "execution_count": 8,
     "metadata": {},
     "output_type": "execute_result"
    }
   ],
   "source": [
    "cart2sph(np.cos(np.pi/4),0,np.sin(np.pi/4),np.cos(np.pi/4),0,-np.sin(np.pi/4))"
   ]
  },
  {
   "cell_type": "code",
   "execution_count": 9,
   "id": "0b6867e7-153d-420c-a0d6-b7cb83b3b8a2",
   "metadata": {},
   "outputs": [
    {
     "data": {
      "text/plain": [
       "(0.7071067811865476,\n",
       " 0.0,\n",
       " 0.7071067811865476,\n",
       " 0.7071067811865477,\n",
       " 0.0,\n",
       " -0.7071067811865476)"
      ]
     },
     "execution_count": 9,
     "metadata": {},
     "output_type": "execute_result"
    }
   ],
   "source": [
    "sph2cart(1.0, 0.7853981633974483, 0.0, 0.0, 1.0000000000000002, 0.0)"
   ]
  },
  {
   "cell_type": "code",
   "execution_count": 27,
   "id": "b5e9fb94-e3d7-4f77-8238-a5fa42eb43fa",
   "metadata": {},
   "outputs": [
    {
     "ename": "IndentationError",
     "evalue": "unindent does not match any outer indentation level (<tokenize>, line 12)",
     "output_type": "error",
     "traceback": [
      "\u001b[1;36m  File \u001b[1;32m<tokenize>:12\u001b[1;36m\u001b[0m\n\u001b[1;33m    vtheta = (vx*cosTheta*cosPhi + vy*cosTheta*sinPhi - vz*sinTheta)/r\u001b[0m\n\u001b[1;37m    ^\u001b[0m\n\u001b[1;31mIndentationError\u001b[0m\u001b[1;31m:\u001b[0m unindent does not match any outer indentation level\n"
     ]
    }
   ],
   "source": [
    "def cart2sph(x,y,z,vx,vy,vz):\n",
    "\tr = np.sqrt(x**2+y**2+z**2)\n",
    "\ttheta = np.arccos(z/r)\n",
    "\tphi = np.sign(y)*np.arccos(x/np.sqrt(x**2+y**2))\n",
    "\trho = np.sqrt(x**2+y**2)\n",
    "\tsinTheta = rho/r\n",
    "\tcosTheta = z/r\n",
    "\tsinPhi = y/rho\n",
    "\tcosPhi = x/rho\n",
    "\tvr = (x*vx + y*vy + z*vz)/r\n",
    "\tvtheta = np.sum(np.array([vx,vy,vz])*np.array([cosTheta*cosPhi,cosTheta*sinPhi,-sinTheta]))/r # come back and make these trigonometric functions into functions of x, y, z\n",
    "    vtheta = (vx*cosTheta*cosPhi + vy*cosTheta*sinPhi - vz*sinTheta)/r\n",
    "\tvphi = np.sum(np.array([vx,vy,vz])*np.array([-sinPhi,cosPhi,0]))/rho\n",
    "    vphi = (-vx*sinPhi + vy*cosPhi)/rho\n",
    "\treturn r,theta,phi,vr,vtheta,vphi"
   ]
  },
  {
   "cell_type": "code",
   "execution_count": 16,
   "id": "ce84e3a8-6d0b-40b9-9cae-579325a9242e",
   "metadata": {},
   "outputs": [
    {
     "data": {
      "text/plain": [
       "(1.0, 1.5707963267948966, 0.0, 0.0, 1.0, 0.0)"
      ]
     },
     "execution_count": 16,
     "metadata": {},
     "output_type": "execute_result"
    }
   ],
   "source": [
    "cart2sph(1,0,0,0,0,-1)"
   ]
  },
  {
   "cell_type": "code",
   "execution_count": 17,
   "id": "b4c0c923-ff59-4b4b-b169-5c41453731b5",
   "metadata": {},
   "outputs": [
    {
     "data": {
      "text/plain": [
       "(1.0, 0.7853981633974483, 0.0, 0.0, 1.0000000000000002, 0.0)"
      ]
     },
     "execution_count": 17,
     "metadata": {},
     "output_type": "execute_result"
    }
   ],
   "source": [
    "cart2sph(np.cos(np.pi/4),0,np.sin(np.pi/4),np.cos(np.pi/4),0,-np.sin(np.pi/4))"
   ]
  },
  {
   "cell_type": "code",
   "execution_count": 34,
   "id": "7f02762f-655e-46d2-a846-af94705bde32",
   "metadata": {},
   "outputs": [],
   "source": [
    "def cart2sph(x,y,z,vx,vy,vz):\n",
    "\tr = np.sqrt(x**2+y**2+z**2)\n",
    "\ttheta = np.arccos(z/r)\n",
    "\tphi = np.sign(y)*np.arccos(x/np.sqrt(x**2+y**2))\n",
    "\trho = np.sqrt(x**2+y**2)\n",
    "\tsinTheta = rho/r\n",
    "\tcosTheta = z/r\n",
    "\tsinPhi = y/rho\n",
    "\tcosPhi = x/rho\n",
    "\tvr = (x*vx + y*vy + z*vz)/r\n",
    "\tvtheta = (vx*cosTheta*cosPhi + vy*cosTheta*sinPhi - vz*sinTheta)/r\n",
    "\tvphi = (-vx*sinPhi + vy*cosPhi)/rho\n",
    "\treturn r,theta,phi,vr,vtheta,vphi"
   ]
  },
  {
   "cell_type": "code",
   "execution_count": 35,
   "id": "6b280f68-f1e2-4d4a-9faf-aff37ec61819",
   "metadata": {},
   "outputs": [
    {
     "data": {
      "text/plain": [
       "(1.0, 1.5707963267948966, 0.0, 0.0, 1.0, 0.0)"
      ]
     },
     "execution_count": 35,
     "metadata": {},
     "output_type": "execute_result"
    }
   ],
   "source": [
    "cart2sph(1,0,0,0,0,-1)"
   ]
  },
  {
   "cell_type": "code",
   "execution_count": 36,
   "id": "d474975b-ae1e-45d6-8bc5-55d1ddee1fa9",
   "metadata": {},
   "outputs": [
    {
     "data": {
      "text/plain": [
       "(1.0, 0.7853981633974483, 0.0, 0.0, 1.0000000000000002, 0.0)"
      ]
     },
     "execution_count": 36,
     "metadata": {},
     "output_type": "execute_result"
    }
   ],
   "source": [
    "cart2sph(np.cos(np.pi/4),0,np.sin(np.pi/4),np.cos(np.pi/4),0,-np.sin(np.pi/4))"
   ]
  },
  {
   "cell_type": "code",
   "execution_count": 5,
   "id": "32e9c754-5279-4d32-ba35-150c7e24069c",
   "metadata": {},
   "outputs": [],
   "source": [
    "# takes in the initial image and prepares it for the lensing simulation.\n",
    "# saves an array of the RGB values to a file\n",
    "\n",
    "import numpy as np\n",
    "import PIL\n",
    "from PIL import Image as Im\n",
    "\n",
    "# method to be used by other files in case we don't want to run this individually\n",
    "def imageTakeInner(image_file):\n",
    "    image = Im.open(image_file)\n",
    "    image = np.array(image)\n",
    "    return image\n",
    "\n",
    "# method to find where the ray passes through an image\n",
    "def findPixel(y_center, x_center, z_position, pixel_length, ri, v):\n",
    "    xi, yi, zi = ri # initial positions, should input the final positions BEFORE the ray passes through the image\n",
    "    vx, vy, vz = v # velocities from the same time as the initial position\n",
    "    Z = z_position - zi\n",
    "    xf = xi + Z*(vx/vz)\n",
    "    yf = yi + Z*(vy/vz)\n",
    "    j = (xf + x_center)/pixel_length\n",
    "    i = (yf + y_center)/pixel_length\n",
    "    j, i = round(j), round(i)\n",
    "    return i, j # y then x indices for the pixel\n",
    "\n",
    "# choose the image to use and the file to save to HERE\n",
    "image_file = 'stock-photo-young-attractive-dangerous-woman-aiming-at-gold-fish-55445056.jpg' # input file\n",
    "array_file = 'usable.npy' # 0utput file with the format .npy\n",
    "\n",
    "image = Im.open(image_file)\n",
    "image = np.array(image)\n",
    "np.save(array_file, image)"
   ]
  },
  {
   "cell_type": "code",
   "execution_count": 6,
   "id": "96c7cfed-bb37-4108-a5ad-a251cd38e0a4",
   "metadata": {},
   "outputs": [
    {
     "data": {
      "text/plain": [
       "(-5, 5)"
      ]
     },
     "execution_count": 6,
     "metadata": {},
     "output_type": "execute_result"
    }
   ],
   "source": [
    "findPixel(0,0,10,1,np.array([0,0,0]),np.array([1,-1,2]))"
   ]
  },
  {
   "cell_type": "code",
   "execution_count": 7,
   "id": "aa519d5d-6e66-434e-9a18-552304f9d9a4",
   "metadata": {},
   "outputs": [
    {
     "data": {
      "text/plain": [
       "(-2, 13)"
      ]
     },
     "execution_count": 7,
     "metadata": {},
     "output_type": "execute_result"
    }
   ],
   "source": [
    "findPixel(3,8,10,1,np.array([0,0,0]),np.array([1,-1,2]))"
   ]
  },
  {
   "cell_type": "code",
   "execution_count": 8,
   "id": "6b6c7c70-9116-4340-967d-2ae301735266",
   "metadata": {},
   "outputs": [
    {
     "data": {
      "text/plain": [
       "(-2, 13)"
      ]
     },
     "execution_count": 8,
     "metadata": {},
     "output_type": "execute_result"
    }
   ],
   "source": [
    "findPixel(3,8.1,10,1,np.array([0,0,0]),np.array([1,-1,2]))"
   ]
  },
  {
   "cell_type": "code",
   "execution_count": 10,
   "id": "4ef0f9d4-3763-4661-a3bd-b5af1f90396b",
   "metadata": {},
   "outputs": [
    {
     "data": {
      "text/plain": [
       "(1.0, 1.5707963267948966, 1.5707963267948966, 0.0, 1.0, 0.0)"
      ]
     },
     "execution_count": 10,
     "metadata": {},
     "output_type": "execute_result"
    }
   ],
   "source": [
    "cart2sph(0,1,0,0,0,-1)"
   ]
  },
  {
   "cell_type": "code",
   "execution_count": 11,
   "id": "23c230cd-e116-45c5-96a5-45ebcc3ca347",
   "metadata": {},
   "outputs": [],
   "source": [
    "# Equations of motion for the Schwarchild Metric\n",
    "def F_schwarz(t, u, E, L): # Note, this takes in SPHERICAL COORDINATES and outputs them in SPHERICAL COORDINATES\n",
    "\tr, theta, phi, vr, vtheta, vphi = u\n",
    "\t# vel = np.array([vx, vy, vz])\n",
    "\tvphi = L/(r**2)\n",
    "\tar = -Rs/(2*r**2)*((L/r)**2)+((L**2)/(r**3))*(1-(Rs/r))\n",
    "\tatheta = 0\n",
    "\taphi = 0\n",
    "\n",
    "\treturn np.array([vr, vtheta, vphi, ar, atheta, aphi])"
   ]
  },
  {
   "cell_type": "code",
   "execution_count": 12,
   "id": "41836150-1990-4767-9c24-08933f7e9a1b",
   "metadata": {},
   "outputs": [],
   "source": [
    "# Richardson Extrapolation using RK4 with a full time step and two half time steps.\n",
    "# [This one works!]\n",
    "def rk4RE(u, f, t, h, E, L):\n",
    "\tp = 4\n",
    "\teps_rel = 1e-8\n",
    "\teps_abs = 1e-15\n",
    "\t# u1 using usual RK4 with two half-time steps\n",
    "\n",
    "\tu1 = rk4(u, f, t, h/2, E, L)\n",
    "\tu1 = rk4(u1, f, t+h/2, h/2, E, L)\n",
    "\n",
    "\t# u2 with one timestep\n",
    "\tu2 = rk4(u, f, t, h, E, L)\n",
    "\n",
    "\tlte = 2**p/(2**p-1)*np.abs(u1-u2) # Local truncation error (local error estimate)\n",
    "\tre = lte/(eps_rel*abs(u) + eps_abs)\n",
    "\tre = np.max(np.where(re==0, 1, re)) # Replace zeros with ones to avoid division by zero\n",
    "\thnew = h/re**(1/(p+1)) # time step adjustment\n",
    "\n",
    "\tif np.max(re)>2:\n",
    "\t\treturn rk4RE(u, f, t, hnew, E, L)\n",
    "\telse:\n",
    "\t\treturn hnew, rk4(u, f, t, hnew, E, L)"
   ]
  },
  {
   "cell_type": "code",
   "execution_count": 10,
   "id": "eccd5740-00d2-4649-bf30-195f11a87cf7",
   "metadata": {},
   "outputs": [],
   "source": [
    "def cart2sph(x,y,z,vx,vy,vz):\n",
    "\tr = np.sqrt(x**2+y**2+z**2)\n",
    "\ttheta = np.arccos(z/r)\n",
    "\tphi = np.sign(y)*np.arccos(x/np.sqrt(x**2+y**2))\n",
    "\trho = np.sqrt(x**2+y**2)\n",
    "\tsinTheta = rho/r\n",
    "\tcosTheta = z/r\n",
    "\tsinPhi = y/rho\n",
    "\tcosPhi = x/rho\n",
    "\tvr = (x*vx + y*vy + z*vz)/r\n",
    "\tvtheta = (vx*cosTheta*cosPhi + vy*cosTheta*sinPhi - vz*sinTheta)/r\n",
    "\tvphi = (-vx*sinPhi + vy*cosPhi)/rho\n",
    "\treturn r,theta,phi,vr,vtheta,vphi\n",
    "\n",
    "def sph2cart(r,theta,phi,vr,vtheta,vphi=0):\n",
    "\tx = r*np.sin(theta)*np.cos(phi)\n",
    "\ty = r*np.sin(theta)*np.sin(phi)\n",
    "\tz = r*np.cos(theta)\n",
    "\trho = r*np.sin(theta)\n",
    "\tvx = vr*np.sin(theta)*np.cos(phi) + r*vtheta*np.cos(theta)*np.cos(phi) - rho*vphi*np.sin(phi)\n",
    "\tvy = vr*np.sin(theta)*np.sin(phi) + r*vtheta*np.cos(theta)*np.sin(phi) + rho*vphi*np.cos(phi)\n",
    "\tvz = vr*np.cos(theta) - r*vtheta*np.sin(theta)\n",
    "\treturn x,y,z,vx,vy,vz"
   ]
  },
  {
   "cell_type": "code",
   "execution_count": 33,
   "id": "42fcfc12-2f38-41b3-a915-66072268834c",
   "metadata": {},
   "outputs": [],
   "source": [
    "M = 3\n",
    "Rs = 2*M # Schwarzschild Radius\n",
    "def integrate_EOM(r0=np.array([0, 3*M, 0], dtype = np.float64), v0=np.array([1, 0, 0], dtype = np.float64), h=0.5): # Takes in CARTESIAN positions and velocities\n",
    "\tt = 0\n",
    "\tu = np.array(cart2sph(r0[0], r0[1], r0[2], v0[0], v0[1], v0[2]))\n",
    "\tprint(u)\n",
    "\tuList = [[t, u[0], u[1], u[2], u[3], u[4], u[5]]]\n",
    "\tcounter = 0\n",
    "\tMaxCount = 10000\n",
    "\tsphICs = cart2sph(r0[0],r0[1],r0[2],v0[0],v0[1],v0[2]) # For FIXED ICs, [r, theta, phi, vr, vtheta, vphi]\n",
    "\tL = (sphICs[0]**2)*(sphICs[5]**2)\n",
    "\tE = np.sqrt(sphICs[3]**2 + A(sphICs[0])*((L/sphICs[0])**2))\n",
    "\twhile (t < 500) and (u[0] > Rs) and counter < MaxCount:\n",
    "\t\tcounter += 1\n",
    "\t\th, u[:] = rk4RE(u, F_schwarz, t, h, E, L)\n",
    "\t\tt += h\n",
    "\t\tuList.append([t, u[0], u[1], u[2], u[3], u[4], u[5]])\n",
    "\tuArr = np.transpose(np.array([uList])) # transposed to make positions easier to grab.\n",
    "\treturn uArr # [t, r, theta, phi, vr, vtheta, vphi]"
   ]
  },
  {
   "cell_type": "code",
   "execution_count": 17,
   "id": "1fbc0191-4c10-4850-8a88-39c73037df7b",
   "metadata": {},
   "outputs": [],
   "source": [
    "def A(r):\n",
    "\treturn 1-(2*M/r)"
   ]
  },
  {
   "cell_type": "code",
   "execution_count": 21,
   "id": "815e1aa1-1daf-4d54-8b67-b44003e3fb08",
   "metadata": {},
   "outputs": [],
   "source": [
    "# RK4\n",
    "def rk4(u, f, t, h, E, L):\n",
    "\tk1 = f(t, u, E, L)\n",
    "\tk2 = f(t + 0.5*h, u + 0.5*h*k1, E, L)\n",
    "\tk3 = f(t + 0.5*h, u + 0.5*h*k2, E, L)\n",
    "\tk4 = f(t + h, u + h*k3, E, L)\n",
    "\treturn u + h/6 * (k1 + 2*k2 + 2*k3 + k4)"
   ]
  },
  {
   "cell_type": "code",
   "execution_count": 53,
   "id": "b2b240d5-f8df-480a-8d68-1332b2e5b936",
   "metadata": {},
   "outputs": [
    {
     "name": "stdout",
     "output_type": "stream",
     "text": [
      "[9.         1.57079633 1.57079633 0.         0.11111111 0.        ]\n"
     ]
    }
   ],
   "source": [
    "U = integrate_EOM(np.array([0,3*M,0]),np.array([0,0,-1]))"
   ]
  },
  {
   "cell_type": "code",
   "execution_count": 65,
   "id": "1243d8df-66ca-48bc-8aac-26e6a41434b5",
   "metadata": {},
   "outputs": [],
   "source": [
    "import numpy as np"
   ]
  },
  {
   "cell_type": "code",
   "execution_count": 75,
   "id": "8ee23b0c-b8d3-4542-b321-5339bc0a6374",
   "metadata": {},
   "outputs": [],
   "source": [
    "u = sph2cart(U[1],U[2],U[3],U[4],U[5],U[6])"
   ]
  },
  {
   "cell_type": "code",
   "execution_count": 76,
   "id": "938f650f-4c30-4036-ba28-0a471e6eb263",
   "metadata": {},
   "outputs": [
    {
     "data": {
      "text/plain": [
       "(6, 1001, 1)"
      ]
     },
     "execution_count": 76,
     "metadata": {},
     "output_type": "execute_result"
    }
   ],
   "source": [
    "np.shape(u)"
   ]
  },
  {
   "cell_type": "code",
   "execution_count": 55,
   "id": "421cca65-cf2e-491e-ad05-ff3e60770485",
   "metadata": {},
   "outputs": [],
   "source": [
    "import matplotlib.pyplot as plt"
   ]
  },
  {
   "cell_type": "code",
   "execution_count": 88,
   "id": "e916d5e0-b510-4f17-8c79-35fa84032bb5",
   "metadata": {},
   "outputs": [
    {
     "data": {
      "text/plain": [
       "(-9.897029519162198, 9.899858548531533, -9.898880737339436, 9.899490868695896)"
      ]
     },
     "execution_count": 88,
     "metadata": {},
     "output_type": "execute_result"
    },
    {
     "data": {
      "image/png": "[encoded data removed]",
      "text/plain": [
       "<Figure size 640x480 with 1 Axes>"
      ]
     },
     "metadata": {},
     "output_type": "display_data"
    }
   ],
   "source": [
    "#plt.plot(u[1][:100],u[2][:100])\n",
    "plt.plot(u[1][:100],u[2][:100],color='r')\n",
    "plt.axis('scaled')"
   ]
  },
  {
   "cell_type": "code",
   "execution_count": 4,
   "id": "010536c4-8f30-4368-b441-3dcc36051aff",
   "metadata": {},
   "outputs": [
    {
     "ename": "TypeError",
     "evalue": "sph2cart() missing 4 required positional arguments: 'theta', 'phi', 'vr', and 'vtheta'",
     "output_type": "error",
     "traceback": [
      "\u001b[1;31m---------------------------------------------------------------------------\u001b[0m",
      "\u001b[1;31mTypeError\u001b[0m                                 Traceback (most recent call last)",
      "Cell \u001b[1;32mIn[4], line 2\u001b[0m\n\u001b[0;32m      1\u001b[0m \u001b[38;5;28;01mimport\u001b[39;00m \u001b[38;5;21;01mnumpy\u001b[39;00m \u001b[38;5;28;01mas\u001b[39;00m \u001b[38;5;21;01mnp\u001b[39;00m\n\u001b[1;32m----> 2\u001b[0m sph2cart(cart2sph(\u001b[38;5;241m-\u001b[39m\u001b[38;5;241m20\u001b[39m,\u001b[38;5;241m20\u001b[39m,\u001b[38;5;241m0\u001b[39m,\u001b[38;5;241m1\u001b[39m,\u001b[38;5;241m0\u001b[39m,\u001b[38;5;241m0\u001b[39m))\n",
      "\u001b[1;31mTypeError\u001b[0m: sph2cart() missing 4 required positional arguments: 'theta', 'phi', 'vr', and 'vtheta'"
     ]
    }
   ],
   "source": [
    "import numpy as np\n",
    "sph2cart(cart2sph(-20,20,0,1,0,0))"
   ]
  },
  {
   "cell_type": "code",
   "execution_count": 11,
   "id": "5a3ccb2e-1bfc-43d8-9efc-98bae7d0d999",
   "metadata": {},
   "outputs": [
    {
     "data": {
      "text/plain": [
       "(28.284271247461902,\n",
       " 1.5707963267948966,\n",
       " 2.356194490192345,\n",
       " -0.7071067811865475,\n",
       " 0.0,\n",
       " -0.024999999999999998)"
      ]
     },
     "execution_count": 11,
     "metadata": {},
     "output_type": "execute_result"
    }
   ],
   "source": [
    "cart2sph(-20,20,0,1,0,0)"
   ]
  },
  {
   "cell_type": "code",
   "execution_count": 12,
   "id": "b9aec104-33f5-4c6b-b5d6-452d916dfae0",
   "metadata": {},
   "outputs": [
    {
     "data": {
      "text/plain": [
       "(-20.0, 20.000000000000004, 1.7319121124709867e-15, 1.0, 0.0, 0.0)"
      ]
     },
     "execution_count": 12,
     "metadata": {},
     "output_type": "execute_result"
    }
   ],
   "source": [
    "sph2cart(28.284271247461902,\n",
    " 1.5707963267948966,\n",
    " 2.356194490192345,\n",
    " -0.7071067811865475,\n",
    " -1.5308084989341912e-18,\n",
    " -0.025)"
   ]
  },
  {
   "cell_type": "code",
   "execution_count": null,
   "id": "a7a5e0bb-9608-4d29-922f-3bfc61581845",
   "metadata": {},
   "outputs": [],
   "source": []
  }
 ],
 "metadata": {
  "kernelspec": {
   "display_name": "Python 3 (ipykernel)",
   "language": "python",
   "name": "python3"
  },
  "language_info": {
   "codemirror_mode": {
    "name": "ipython",
    "version": 3
   },
   "file_extension": ".py",
   "mimetype": "text/x-python",
   "name": "python",
   "nbconvert_exporter": "python",
   "pygments_lexer": "ipython3",
   "version": "3.11.5"
  }
 },
 "nbformat": 4,
 "nbformat_minor": 5
}
