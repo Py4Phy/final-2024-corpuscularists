{
 "cells": [
  {
   "cell_type": "code",
   "execution_count": 3,
   "id": "4cc81063-8319-4c59-82ac-562ff9b40435",
   "metadata": {},
   "outputs": [],
   "source": [
    "import numpy as np\n",
    "import seaborn as sns\n",
    "import matplotlib.pyplot as plt\n",
    "from matplotlib import cm # Color maps\n",
    "from projFuncs import *\n",
    "from processImg import *\n",
    "import PIL\n",
    "from PIL import Image as Im"
   ]
  },
  {
   "cell_type": "code",
   "execution_count": 28,
   "id": "a92b3426-d3ec-4899-9b9d-5a8141bb2da8",
   "metadata": {},
   "outputs": [],
   "source": [
    "### Using geometrized units; c=G=1.\n",
    "\n",
    "pixel_lengthi = 1 # pixel length for the initial image\n",
    "pixel_lengthf = 1 # pixel length for the final image\n",
    "x1 = -7 # location of where we observe the final image\n",
    "x2 = 100 # location of the initial image. Keep it a positive number and the final image at a negative location for later parts of this program to work.\n",
    "# make SURE that |x2| > |x1| so that using the bounds argument in the integrating function works.\n",
    "y_bound = 100\n",
    "z_bound = 100"
   ]
  },
  {
   "cell_type": "code",
   "execution_count": 29,
   "id": "621a87bc-6df3-452b-a966-cf4bb73167f2",
   "metadata": {},
   "outputs": [],
   "source": [
    "initialImage = imageTakeInner('pixil-frame-0.png')\n",
    "y_sizei, z_sizei, x_sizei = initialImage.shape\n",
    "y_sizef = y_sizei\n",
    "z_sizef = z_sizei\n",
    "x_sizef = x_sizei # needs to be the same to transfer the information between the matrices.\n",
    "finalImage = np.zeros(np.array([y_sizef, z_sizef, x_sizef]), dtype='int')"
   ]
  },
  {
   "cell_type": "code",
   "execution_count": 30,
   "id": "aadb77bb-3fad-468b-8a5e-a97ad7258613",
   "metadata": {},
   "outputs": [],
   "source": [
    "# intial image position values\n",
    "y_positionsi = np.arange(0, y_sizei, 1)\n",
    "z_positionsi = np.arange(0, z_sizei, 1)\n",
    "y_positionsi = pixel_lengthi*(y_positionsi - y_sizei/2)\n",
    "z_positionsi = pixel_lengthi*(z_positionsi - z_sizei/2)\n",
    "y_centeri = pixel_lengthi*y_sizei/2\n",
    "z_centeri = pixel_lengthi*z_sizei/2"
   ]
  },
  {
   "cell_type": "code",
   "execution_count": 31,
   "id": "3d319d16-f1c7-42c8-8399-f8e5d186abf4",
   "metadata": {},
   "outputs": [],
   "source": [
    "# final image position values\n",
    "y_positionsf = np.arange(0, y_sizef, 1)\n",
    "z_positionsf = np.arange(0, z_sizef, 1)\n",
    "y_positionsf = pixel_lengthf*(y_positionsf - y_sizef/2)\n",
    "z_positionsf = pixel_lengthf*(z_positionsf - z_sizef/2)\n",
    "y_centerf = pixel_lengthf*y_sizef/2\n",
    "z_centerf = pixel_lengthf*z_sizef/2"
   ]
  },
  {
   "cell_type": "code",
   "execution_count": 32,
   "id": "b9ebdc2e-ec52-4e66-b852-12db01e64f1a",
   "metadata": {},
   "outputs": [
    {
     "name": "stdout",
     "output_type": "stream",
     "text": [
      "Started.\n",
      "Finished.\n"
     ]
    }
   ],
   "source": [
    "print(\"Started.\")\n",
    "for i in range(y_sizef):\n",
    "    for j in range(z_sizef):\n",
    "        z = z_positionsf[j]\n",
    "        y = y_positionsf[i]\n",
    "        x = x1\n",
    "        vx = 1\n",
    "        vy = 0\n",
    "        vz = 0\n",
    "        u = integrate_EOM(np.array([x,y,z]), np.array([vx,vy,vz]),1,np.array([x2,y_bound + 1,z_bound + 1]))\n",
    "        Uu = u[1:,-1,0] # ultimate\n",
    "        if ((Uu[0] - x2) >= 0):\n",
    "            k,l = findPixel(y_centeri, z_centeri, x2, pixel_lengthi, Uu[:3], Uu[3:])\n",
    "            if ((k > -1) and (k < y_sizei) and (l > -1) and (l < z_sizei)):\n",
    "                finalImage[i,j,:] = initialImage[k,l,:]\n",
    "print(\"Finished.\")"
   ]
  },
  {
   "cell_type": "code",
   "execution_count": 15,
   "id": "1479010b-f2bd-4764-b516-4479f52b52c3",
   "metadata": {},
   "outputs": [
    {
     "data": {
      "text/plain": [
       "<matplotlib.image.AxesImage at 0x2c33d06a350>"
      ]
     },
     "execution_count": 15,
     "metadata": {},
     "output_type": "execute_result"
    },
    {
     "data": {
      "image/png": "[encoded data removed]",
      "text/plain": [
       "<Figure size 640x480 with 1 Axes>"
      ]
     },
     "metadata": {},
     "output_type": "display_data"
    }
   ],
   "source": [
    "plt.imshow(initialImage)"
   ]
  },
  {
   "cell_type": "code",
   "execution_count": 33,
   "id": "e4a3c3f1-fd0d-4c25-b1a0-fd37cf51b345",
   "metadata": {},
   "outputs": [
    {
     "data": {
      "text/plain": [
       "<matplotlib.image.AxesImage at 0x2c33d2dff50>"
      ]
     },
     "execution_count": 33,
     "metadata": {},
     "output_type": "execute_result"
    },
    {
     "data": {
      "image/png": "[encoded data removed]",
      "text/plain": [
       "<Figure size 640x480 with 1 Axes>"
      ]
     },
     "metadata": {},
     "output_type": "display_data"
    }
   ],
   "source": [
    "plt.imshow(finalImage)"
   ]
  },
  {
   "cell_type": "code",
   "execution_count": null,
   "id": "f9e6eb3a-f42f-43dc-96ee-059b091a71b5",
   "metadata": {},
   "outputs": [],
   "source": []
  }
 ],
 "metadata": {
  "kernelspec": {
   "display_name": "Python 3 (ipykernel)",
   "language": "python",
   "name": "python3"
  },
  "language_info": {
   "codemirror_mode": {
    "name": "ipython",
    "version": 3
   },
   "file_extension": ".py",
   "mimetype": "text/x-python",
   "name": "python",
   "nbconvert_exporter": "python",
   "pygments_lexer": "ipython3",
   "version": "3.11.5"
  }
 },
 "nbformat": 4,
 "nbformat_minor": 5
}
