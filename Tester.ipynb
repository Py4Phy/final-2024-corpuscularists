{
 "cells": [
  {
   "cell_type": "code",
   "execution_count": 5,
   "id": "1cab6da1-9374-4b5c-a8b7-57b834b2bb5c",
   "metadata": {},
   "outputs": [],
   "source": [
    "import numpy as np\n",
    "\n",
    "def cart2sph(x,y,z,vx,vy,vz):\n",
    "\tr = np.sqrt(x**2+y**2+z**2)\n",
    "\ttheta = np.arccos(z/r)\n",
    "\tphi = np.sign(y)*np.arccos(x/np.sqrt(x**2+y**2))\n",
    "\tvr = (x*vx + y*vy + z*vz)/r\n",
    "\tvtheta = np.sum(np.array([vx,vy,vz])*np.array([np.cos(theta)*np.cos(phi),np.cos(theta)*np.sin(phi),-np.sin(theta)]))/r # come back and make these trigonometric functions into functions of x, y, z\n",
    "\tvphi = np.sum(np.array([vx,vy,vz])*np.array([-np.sin(phi),np.cos(phi),0]))/np.sqrt(x**2 + y**2)\n",
    "\treturn r,theta,phi,vr,vtheta,vphi\n",
    "\n",
    "def sph2cart(r,theta,phi,vr,vtheta,vphi=0):\n",
    "\tx = r*np.sin(theta)*np.cos(phi)\n",
    "\ty = r*np.sin(theta)*np.sin(phi)\n",
    "\tz = r*np.cos(theta)\n",
    "\trho = r*np.sin(theta)\n",
    "\tvx = vr*np.sin(theta)*np.cos(phi) + r*vtheta*np.cos(theta)*np.cos(phi) - rho*vphi*np.sin(phi)\n",
    "\tvy = vr*np.sin(theta)*np.sin(phi) + r*vtheta*np.cos(theta)*np.sin(phi) + rho*vphi*np.cos(phi)\n",
    "\tvz = vr*np.cos(theta) - np.sin(theta)\n",
    "\treturn x,y,z,vx,vy,vz"
   ]
  },
  {
   "cell_type": "code",
   "execution_count": 6,
   "id": "17042d17-a2d3-4ac7-b171-20da3e7021ab",
   "metadata": {},
   "outputs": [
    {
     "data": {
      "text/plain": [
       "(1.0, 1.5707963267948966, 0.0, 0.0, 1.0, 0.0)"
      ]
     },
     "execution_count": 6,
     "metadata": {},
     "output_type": "execute_result"
    }
   ],
   "source": [
    "cart2sph(1,0,0,0,0,-1)"
   ]
  },
  {
   "cell_type": "code",
   "execution_count": 7,
   "id": "53c9ad19-7443-4e9a-b40f-bd3829151983",
   "metadata": {},
   "outputs": [
    {
     "data": {
      "text/plain": [
       "(1.0, 0.0, 6.123233995736766e-17, 6.123233995736766e-17, 0.0, -1.0)"
      ]
     },
     "execution_count": 7,
     "metadata": {},
     "output_type": "execute_result"
    }
   ],
   "source": [
    "sph2cart(1.0, 1.5707963267948966, 0.0, 0.0, 1.0, 0.0)"
   ]
  },
  {
   "cell_type": "code",
   "execution_count": 8,
   "id": "377b689a-be20-4c1d-85c2-64f2d55a9214",
   "metadata": {},
   "outputs": [
    {
     "data": {
      "text/plain": [
       "(1.0, 0.7853981633974483, 0.0, 0.0, 1.0000000000000002, 0.0)"
      ]
     },
     "execution_count": 8,
     "metadata": {},
     "output_type": "execute_result"
    }
   ],
   "source": [
    "cart2sph(np.cos(np.pi/4),0,np.sin(np.pi/4),np.cos(np.pi/4),0,-np.sin(np.pi/4))"
   ]
  },
  {
   "cell_type": "code",
   "execution_count": 9,
   "id": "0b6867e7-153d-420c-a0d6-b7cb83b3b8a2",
   "metadata": {},
   "outputs": [
    {
     "data": {
      "text/plain": [
       "(0.7071067811865476,\n",
       " 0.0,\n",
       " 0.7071067811865476,\n",
       " 0.7071067811865477,\n",
       " 0.0,\n",
       " -0.7071067811865476)"
      ]
     },
     "execution_count": 9,
     "metadata": {},
     "output_type": "execute_result"
    }
   ],
   "source": [
    "sph2cart(1.0, 0.7853981633974483, 0.0, 0.0, 1.0000000000000002, 0.0)"
   ]
  },
  {
   "cell_type": "code",
   "execution_count": 27,
   "id": "b5e9fb94-e3d7-4f77-8238-a5fa42eb43fa",
   "metadata": {},
   "outputs": [
    {
     "ename": "IndentationError",
     "evalue": "unindent does not match any outer indentation level (<tokenize>, line 12)",
     "output_type": "error",
     "traceback": [
      "\u001b[1;36m  File \u001b[1;32m<tokenize>:12\u001b[1;36m\u001b[0m\n\u001b[1;33m    vtheta = (vx*cosTheta*cosPhi + vy*cosTheta*sinPhi - vz*sinTheta)/r\u001b[0m\n\u001b[1;37m    ^\u001b[0m\n\u001b[1;31mIndentationError\u001b[0m\u001b[1;31m:\u001b[0m unindent does not match any outer indentation level\n"
     ]
    }
   ],
   "source": [
    "def cart2sph(x,y,z,vx,vy,vz):\n",
    "\tr = np.sqrt(x**2+y**2+z**2)\n",
    "\ttheta = np.arccos(z/r)\n",
    "\tphi = np.sign(y)*np.arccos(x/np.sqrt(x**2+y**2))\n",
    "\trho = np.sqrt(x**2+y**2)\n",
    "\tsinTheta = rho/r\n",
    "\tcosTheta = z/r\n",
    "\tsinPhi = y/rho\n",
    "\tcosPhi = x/rho\n",
    "\tvr = (x*vx + y*vy + z*vz)/r\n",
    "\tvtheta = np.sum(np.array([vx,vy,vz])*np.array([cosTheta*cosPhi,cosTheta*sinPhi,-sinTheta]))/r # come back and make these trigonometric functions into functions of x, y, z\n",
    "    vtheta = (vx*cosTheta*cosPhi + vy*cosTheta*sinPhi - vz*sinTheta)/r\n",
    "\tvphi = np.sum(np.array([vx,vy,vz])*np.array([-sinPhi,cosPhi,0]))/rho\n",
    "    vphi = (-vx*sinPhi + vy*cosPhi)/rho\n",
    "\treturn r,theta,phi,vr,vtheta,vphi"
   ]
  },
  {
   "cell_type": "code",
   "execution_count": 16,
   "id": "ce84e3a8-6d0b-40b9-9cae-579325a9242e",
   "metadata": {},
   "outputs": [
    {
     "data": {
      "text/plain": [
       "(1.0, 1.5707963267948966, 0.0, 0.0, 1.0, 0.0)"
      ]
     },
     "execution_count": 16,
     "metadata": {},
     "output_type": "execute_result"
    }
   ],
   "source": [
    "cart2sph(1,0,0,0,0,-1)"
   ]
  },
  {
   "cell_type": "code",
   "execution_count": 17,
   "id": "b4c0c923-ff59-4b4b-b169-5c41453731b5",
   "metadata": {},
   "outputs": [
    {
     "data": {
      "text/plain": [
       "(1.0, 0.7853981633974483, 0.0, 0.0, 1.0000000000000002, 0.0)"
      ]
     },
     "execution_count": 17,
     "metadata": {},
     "output_type": "execute_result"
    }
   ],
   "source": [
    "cart2sph(np.cos(np.pi/4),0,np.sin(np.pi/4),np.cos(np.pi/4),0,-np.sin(np.pi/4))"
   ]
  },
  {
   "cell_type": "code",
   "execution_count": 34,
   "id": "7f02762f-655e-46d2-a846-af94705bde32",
   "metadata": {},
   "outputs": [],
   "source": [
    "def cart2sph(x,y,z,vx,vy,vz):\n",
    "\tr = np.sqrt(x**2+y**2+z**2)\n",
    "\ttheta = np.arccos(z/r)\n",
    "\tphi = np.sign(y)*np.arccos(x/np.sqrt(x**2+y**2))\n",
    "\trho = np.sqrt(x**2+y**2)\n",
    "\tsinTheta = rho/r\n",
    "\tcosTheta = z/r\n",
    "\tsinPhi = y/rho\n",
    "\tcosPhi = x/rho\n",
    "\tvr = (x*vx + y*vy + z*vz)/r\n",
    "\tvtheta = (vx*cosTheta*cosPhi + vy*cosTheta*sinPhi - vz*sinTheta)/r\n",
    "\tvphi = (-vx*sinPhi + vy*cosPhi)/rho\n",
    "\treturn r,theta,phi,vr,vtheta,vphi"
   ]
  },
  {
   "cell_type": "code",
   "execution_count": 35,
   "id": "6b280f68-f1e2-4d4a-9faf-aff37ec61819",
   "metadata": {},
   "outputs": [
    {
     "data": {
      "text/plain": [
       "(1.0, 1.5707963267948966, 0.0, 0.0, 1.0, 0.0)"
      ]
     },
     "execution_count": 35,
     "metadata": {},
     "output_type": "execute_result"
    }
   ],
   "source": [
    "cart2sph(1,0,0,0,0,-1)"
   ]
  },
  {
   "cell_type": "code",
   "execution_count": 36,
   "id": "d474975b-ae1e-45d6-8bc5-55d1ddee1fa9",
   "metadata": {},
   "outputs": [
    {
     "data": {
      "text/plain": [
       "(1.0, 0.7853981633974483, 0.0, 0.0, 1.0000000000000002, 0.0)"
      ]
     },
     "execution_count": 36,
     "metadata": {},
     "output_type": "execute_result"
    }
   ],
   "source": [
    "cart2sph(np.cos(np.pi/4),0,np.sin(np.pi/4),np.cos(np.pi/4),0,-np.sin(np.pi/4))"
   ]
  },
  {
   "cell_type": "code",
   "execution_count": 5,
   "id": "32e9c754-5279-4d32-ba35-150c7e24069c",
   "metadata": {},
   "outputs": [],
   "source": [
    "# takes in the initial image and prepares it for the lensing simulation.\n",
    "# saves an array of the RGB values to a file\n",
    "\n",
    "import numpy as np\n",
    "import PIL\n",
    "from PIL import Image as Im\n",
    "\n",
    "# method to be used by other files in case we don't want to run this individually\n",
    "def imageTakeInner(image_file):\n",
    "    image = Im.open(image_file)\n",
    "    image = np.array(image)\n",
    "    return image\n",
    "\n",
    "# method to find where the ray passes through an image\n",
    "def findPixel(y_center, x_center, z_position, pixel_length, ri, v):\n",
    "    xi, yi, zi = ri # initial positions, should input the final positions BEFORE the ray passes through the image\n",
    "    vx, vy, vz = v # velocities from the same time as the initial position\n",
    "    Z = z_position - zi\n",
    "    xf = xi + Z*(vx/vz)\n",
    "    yf = yi + Z*(vy/vz)\n",
    "    j = (xf + x_center)/pixel_length\n",
    "    i = (yf + y_center)/pixel_length\n",
    "    j, i = round(j), round(i)\n",
    "    return i, j # y then x indices for the pixel\n",
    "\n",
    "# choose the image to use and the file to save to HERE\n",
    "image_file = 'stock-photo-young-attractive-dangerous-woman-aiming-at-gold-fish-55445056.jpg' # input file\n",
    "array_file = 'usable.npy' # 0utput file with the format .npy\n",
    "\n",
    "image = Im.open(image_file)\n",
    "image = np.array(image)\n",
    "np.save(array_file, image)"
   ]
  },
  {
   "cell_type": "code",
   "execution_count": 6,
   "id": "96c7cfed-bb37-4108-a5ad-a251cd38e0a4",
   "metadata": {},
   "outputs": [
    {
     "data": {
      "text/plain": [
       "(-5, 5)"
      ]
     },
     "execution_count": 6,
     "metadata": {},
     "output_type": "execute_result"
    }
   ],
   "source": [
    "findPixel(0,0,10,1,np.array([0,0,0]),np.array([1,-1,2]))"
   ]
  },
  {
   "cell_type": "code",
   "execution_count": 7,
   "id": "aa519d5d-6e66-434e-9a18-552304f9d9a4",
   "metadata": {},
   "outputs": [
    {
     "data": {
      "text/plain": [
       "(-2, 13)"
      ]
     },
     "execution_count": 7,
     "metadata": {},
     "output_type": "execute_result"
    }
   ],
   "source": [
    "findPixel(3,8,10,1,np.array([0,0,0]),np.array([1,-1,2]))"
   ]
  },
  {
   "cell_type": "code",
   "execution_count": 8,
   "id": "6b6c7c70-9116-4340-967d-2ae301735266",
   "metadata": {},
   "outputs": [
    {
     "data": {
      "text/plain": [
       "(-2, 13)"
      ]
     },
     "execution_count": 8,
     "metadata": {},
     "output_type": "execute_result"
    }
   ],
   "source": [
    "findPixel(3,8.1,10,1,np.array([0,0,0]),np.array([1,-1,2]))"
   ]
  },
  {
   "cell_type": "code",
   "execution_count": null,
   "id": "f1ce8a62-5548-44fa-96ee-82b6b87dafb3",
   "metadata": {},
   "outputs": [],
   "source": []
  }
 ],
 "metadata": {
  "kernelspec": {
   "display_name": "Python 3 (ipykernel)",
   "language": "python",
   "name": "python3"
  },
  "language_info": {
   "codemirror_mode": {
    "name": "ipython",
    "version": 3
   },
   "file_extension": ".py",
   "mimetype": "text/x-python",
   "name": "python",
   "nbconvert_exporter": "python",
   "pygments_lexer": "ipython3",
   "version": "3.11.5"
  }
 },
 "nbformat": 4,
 "nbformat_minor": 5
}
