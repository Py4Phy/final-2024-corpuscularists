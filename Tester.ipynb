{
 "cells": [
  {
   "cell_type": "code",
   "execution_count": 54,
   "id": "4cc81063-8319-4c59-82ac-562ff9b40435",
   "metadata": {},
   "outputs": [],
   "source": [
    "import numpy as np\n",
    "import seaborn as sns\n",
    "import matplotlib.pyplot as plt\n",
    "from matplotlib import cm # Color maps\n",
    "from projFuncs import *\n",
    "from processImg import *\n",
    "import PIL\n",
    "from PIL import Image as Im"
   ]
  },
  {
   "cell_type": "code",
   "execution_count": 55,
   "id": "a92b3426-d3ec-4899-9b9d-5a8141bb2da8",
   "metadata": {},
   "outputs": [],
   "source": [
    "### Using geometrized units; c=G=1.\n",
    "\n",
    "pixel_length = 100\n",
    "x1 = -7 # location of where we observe the final image\n",
    "x2 = 7 # location of the initial image. Keep it a positive number and the final image at a negative location for later parts of this program to work."
   ]
  },
  {
   "cell_type": "code",
   "execution_count": 56,
   "id": "621a87bc-6df3-452b-a966-cf4bb73167f2",
   "metadata": {},
   "outputs": [],
   "source": [
    "# set image position(s)\n",
    "initialImage = imageTakeInner('small_test_image.png')\n",
    "finalImage = np.zeros(initialImage.shape)\n",
    "y_size, z_size, x_size = initialImage.shape\n",
    "y_positions = np.arange(0, y_size, 1)\n",
    "z_positions = np.arange(0, z_size, 1)\n",
    "y_positions = pixel_length*(y_positions - y_size/2)\n",
    "z_positions = pixel_length*(z_positions - z_size/2)\n",
    "y_center = pixel_length*y_size/2\n",
    "z_center = pixel_length*z_size/2"
   ]
  },
  {
   "cell_type": "code",
   "execution_count": 57,
   "id": "aadb77bb-3fad-468b-8a5e-a97ad7258613",
   "metadata": {},
   "outputs": [
    {
     "name": "stdout",
     "output_type": "stream",
     "text": [
      "Started.\n"
     ]
    },
    {
     "ename": "KeyboardInterrupt",
     "evalue": "",
     "output_type": "error",
     "traceback": [
      "\u001b[1;31m---------------------------------------------------------------------------\u001b[0m",
      "\u001b[1;31mKeyboardInterrupt\u001b[0m                         Traceback (most recent call last)",
      "Cell \u001b[1;32mIn[57], line 10\u001b[0m\n\u001b[0;32m      8\u001b[0m vy \u001b[38;5;241m=\u001b[39m \u001b[38;5;241m0\u001b[39m\n\u001b[0;32m      9\u001b[0m vz \u001b[38;5;241m=\u001b[39m \u001b[38;5;241m0\u001b[39m\n\u001b[1;32m---> 10\u001b[0m u \u001b[38;5;241m=\u001b[39m integrate_EOM(np\u001b[38;5;241m.\u001b[39marray([x,y,z]), np\u001b[38;5;241m.\u001b[39marray([vx,vy,vz]))\n\u001b[0;32m     11\u001b[0m Upu \u001b[38;5;241m=\u001b[39m u[\u001b[38;5;241m1\u001b[39m:,\u001b[38;5;241m-\u001b[39m\u001b[38;5;241m2\u001b[39m] \u001b[38;5;66;03m# penultimate\u001b[39;00m\n\u001b[0;32m     12\u001b[0m Uu \u001b[38;5;241m=\u001b[39m u[\u001b[38;5;241m1\u001b[39m:,\u001b[38;5;241m-\u001b[39m\u001b[38;5;241m1\u001b[39m] \u001b[38;5;66;03m# ultimate\u001b[39;00m\n",
      "File \u001b[1;32m~\\final-2024-corpuscularists\\projFuncs.py:168\u001b[0m, in \u001b[0;36mintegrate_EOM\u001b[1;34m(r0, v0, traj, h)\u001b[0m\n\u001b[0;32m    165\u001b[0m h, u[:] \u001b[38;5;241m=\u001b[39m rk4RE(u, F_schwarz, t, h, E, L)\n\u001b[0;32m    166\u001b[0m t \u001b[38;5;241m+\u001b[39m\u001b[38;5;241m=\u001b[39m h\n\u001b[1;32m--> 168\u001b[0m uRotBackPosB \u001b[38;5;241m=\u001b[39m rotX(sph2cart(u[\u001b[38;5;241m0\u001b[39m],u[\u001b[38;5;241m1\u001b[39m],u[\u001b[38;5;241m2\u001b[39m],u[\u001b[38;5;241m3\u001b[39m],u[\u001b[38;5;241m4\u001b[39m],u[\u001b[38;5;241m5\u001b[39m])[\u001b[38;5;241m0\u001b[39m:\u001b[38;5;241m3\u001b[39m],rotateBy)\n\u001b[0;32m    169\u001b[0m uRotBackVelB \u001b[38;5;241m=\u001b[39m rotX(sph2cart(u[\u001b[38;5;241m0\u001b[39m],u[\u001b[38;5;241m1\u001b[39m],u[\u001b[38;5;241m2\u001b[39m],u[\u001b[38;5;241m3\u001b[39m],u[\u001b[38;5;241m4\u001b[39m],u[\u001b[38;5;241m5\u001b[39m])[\u001b[38;5;241m3\u001b[39m:\u001b[38;5;241m6\u001b[39m],rotateBy)\n\u001b[0;32m    170\u001b[0m uList\u001b[38;5;241m.\u001b[39mappend(np\u001b[38;5;241m.\u001b[39mconcatenate(([t],uRotBackPosB,uRotBackVelB)))\n",
      "File \u001b[1;32m~\\final-2024-corpuscularists\\projFuncs.py:118\u001b[0m, in \u001b[0;36msph2cart\u001b[1;34m(r, theta, phi, vr, vtheta, vphi)\u001b[0m\n\u001b[0;32m    115\u001b[0m \tvphi \u001b[38;5;241m=\u001b[39m (\u001b[38;5;241m-\u001b[39mvx\u001b[38;5;241m*\u001b[39msinPhi \u001b[38;5;241m+\u001b[39m vy\u001b[38;5;241m*\u001b[39mcosPhi)\u001b[38;5;241m/\u001b[39mrho\n\u001b[0;32m    116\u001b[0m \t\u001b[38;5;28;01mreturn\u001b[39;00m r,theta,phi,vr,vtheta,vphi\n\u001b[1;32m--> 118\u001b[0m \u001b[38;5;28;01mdef\u001b[39;00m \u001b[38;5;21msph2cart\u001b[39m(r\u001b[38;5;241m=\u001b[39m\u001b[38;5;241m0\u001b[39m,theta\u001b[38;5;241m=\u001b[39m\u001b[38;5;241m0\u001b[39m,phi\u001b[38;5;241m=\u001b[39m\u001b[38;5;241m0\u001b[39m,vr\u001b[38;5;241m=\u001b[39m\u001b[38;5;241m0\u001b[39m,vtheta\u001b[38;5;241m=\u001b[39m\u001b[38;5;241m0\u001b[39m,vphi\u001b[38;5;241m=\u001b[39m\u001b[38;5;241m0\u001b[39m):\n\u001b[0;32m    119\u001b[0m \tx \u001b[38;5;241m=\u001b[39m r\u001b[38;5;241m*\u001b[39mnp\u001b[38;5;241m.\u001b[39msin(theta)\u001b[38;5;241m*\u001b[39mnp\u001b[38;5;241m.\u001b[39mcos(phi)\n\u001b[0;32m    120\u001b[0m \ty \u001b[38;5;241m=\u001b[39m r\u001b[38;5;241m*\u001b[39mnp\u001b[38;5;241m.\u001b[39msin(theta)\u001b[38;5;241m*\u001b[39mnp\u001b[38;5;241m.\u001b[39msin(phi)\n",
      "\u001b[1;31mKeyboardInterrupt\u001b[0m: "
     ]
    }
   ],
   "source": [
    "print(\"Started.\")\n",
    "for i in range(y_size):\n",
    "    for j in range(z_size):\n",
    "        z = z_positions[j]\n",
    "        y = y_positions[i]\n",
    "        x = x1\n",
    "        vx = 1\n",
    "        vy = 0\n",
    "        vz = 0\n",
    "        u = integrate_EOM(np.array([x,y,z]), np.array([vx,vy,vz]))\n",
    "        Upu = u[1:,-2] # penultimate\n",
    "        Uu = u[1:,-1] # ultimate\n",
    "        if ((Uu[0][0] - x2) >= 0):\n",
    "            k,l = findPixel(y_center, z_center, x2, pixel_length, Upu[:3,0], Upu[3:,0])\n",
    "            finalImage[i,j,:] = initialImage[k,l,:]\n",
    "print(\"Finished.\")"
   ]
  },
  {
   "cell_type": "code",
   "execution_count": null,
   "id": "b9ebdc2e-ec52-4e66-b852-12db01e64f1a",
   "metadata": {},
   "outputs": [],
   "source": [
    "pil.imshow(initialImage)"
   ]
  },
  {
   "cell_type": "code",
   "execution_count": null,
   "id": "1479010b-f2bd-4764-b516-4479f52b52c3",
   "metadata": {},
   "outputs": [],
   "source": [
    "pil.imshow(finalImage)"
   ]
  },
  {
   "cell_type": "code",
   "execution_count": null,
   "id": "561d655a-d16b-492d-adc1-202d65d3ffc0",
   "metadata": {},
   "outputs": [],
   "source": []
  }
 ],
 "metadata": {
  "kernelspec": {
   "display_name": "Python 3 (ipykernel)",
   "language": "python",
   "name": "python3"
  },
  "language_info": {
   "codemirror_mode": {
    "name": "ipython",
    "version": 3
   },
   "file_extension": ".py",
   "mimetype": "text/x-python",
   "name": "python",
   "nbconvert_exporter": "python",
   "pygments_lexer": "ipython3",
   "version": "3.11.5"
  }
 },
 "nbformat": 4,
 "nbformat_minor": 5
}
