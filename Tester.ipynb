{
 "cells": [
  {
   "cell_type": "code",
   "execution_count": 1,
   "id": "4cc81063-8319-4c59-82ac-562ff9b40435",
   "metadata": {},
   "outputs": [],
   "source": [
    "import numpy as np\n",
    "import seaborn as sns\n",
    "import matplotlib.pyplot as plt\n",
    "from matplotlib import cm # Color maps\n",
    "from projFuncs import *\n",
    "from processImg import *\n",
    "import PIL\n",
    "from PIL import Image as Im"
   ]
  },
  {
   "cell_type": "code",
   "execution_count": 2,
   "id": "a92b3426-d3ec-4899-9b9d-5a8141bb2da8",
   "metadata": {},
   "outputs": [],
   "source": [
    "### Using geometrized units; c=G=1.\n",
    "\n",
    "pixel_length = 1000\n",
    "x1 = -1000 # location of where we observe the final image\n",
    "x2 = 1000 # location of the initial image. Keep it a positive number and the final image at a negative location for later parts of this program to work."
   ]
  },
  {
   "cell_type": "code",
   "execution_count": 7,
   "id": "621a87bc-6df3-452b-a966-cf4bb73167f2",
   "metadata": {},
   "outputs": [],
   "source": [
    "# set image position(s)\n",
    "initialImage = imageTakeInner('small_test_image.png')\n",
    "finalImage = np.zeros(initialImage.shape)\n",
    "y_size, z_size, x_size = initialImage.shape\n",
    "y_positions = np.arange(0, y_size, 1)\n",
    "z_positions = np.arange(0, z_size, 1)\n",
    "y_positions = pixel_length*(y_positions - y_size/2)\n",
    "z_positions = pixel_length*(z_positions - z_size/2)\n",
    "y_center = pixel_length*y_size/2\n",
    "z_center = pixel_length*z_size/2"
   ]
  },
  {
   "cell_type": "code",
   "execution_count": 8,
   "id": "ac38450f-5c33-486b-85c0-0325653fc274",
   "metadata": {},
   "outputs": [
    {
     "name": "stdout",
     "output_type": "stream",
     "text": [
      "Finished.\n"
     ]
    }
   ],
   "source": [
    "for i in range(y_size):\n",
    "    for j in range(x_size):\n",
    "        z = z_positions[j]\n",
    "        y = y_positions[i]\n",
    "        d = np.sqrt(y**2 + z**2)\n",
    "        COSPSI = y/d\n",
    "        SINPSI = z/d\n",
    "        x = x1\n",
    "        vx = 1\n",
    "        vy = 0\n",
    "        vz = 0\n",
    "        u = integrate_EOM(np.array([x,d,0]), np.array([vx,vy,vz])) # the arguments are rotated to be in the xy plane\n",
    "        U = sph2cart(u[1],u[2],u[3],u[4],u[5],u[6])\n",
    "        temporary = COSPSI*U[1] - SINPSI*U[2]\n",
    "        U[2][:] = SINPSI*U[1] + COSPSI*U[2]\n",
    "        U[1][:] = temporary\n",
    "        Upu = U[:][-2] # penultimate\n",
    "        Uu = U[:][-1] # ultimate\n",
    "        if ((Uu[0] - x2) >= 0):\n",
    "            k,l = findPixel(y_center, z_center, x2, pixel_length, Upu[:3], Upu[3:])\n",
    "            if (k > -1) and (k < y_size) and (l > -1) and (l < z_size):\n",
    "                finalImage[i][j][:] = initialImage[k][l][:]\n",
    "\n",
    "print('Finished.')"
   ]
  },
  {
   "cell_type": "code",
   "execution_count": 11,
   "id": "0a5f430a-8c83-4e19-b962-9ea4d06326e7",
   "metadata": {},
   "outputs": [],
   "source": [
    "outputImage = Im.fromarray(finalImage[0][0][:3], mode=\"RGB\")\n",
    "outputImage.show()\n",
    "outputImage.save('Lensed_small_test_image.png')"
   ]
  },
  {
   "cell_type": "code",
   "execution_count": 47,
   "id": "19fae3eb-1ef9-40fa-84cb-b97980a41e16",
   "metadata": {},
   "outputs": [
    {
     "name": "stdout",
     "output_type": "stream",
     "text": [
      "Finished.\n"
     ]
    }
   ],
   "source": [
    "for i in range(y_size):\n",
    "    for j in range(z_size):\n",
    "        z = z_positions[j]\n",
    "        y = y_positions[i]\n",
    "        d = np.sqrt(y**2 + z**2)\n",
    "        x = x1\n",
    "        vx = 1\n",
    "        vy = 0\n",
    "        vz = 0\n",
    "        k,l = findPixel(y_center, z_center, x2, pixel_length, np.array([x,y,z]), np.array([vx,vy,vz]))\n",
    "        if (k > -1) and (k < y_size) and (l > -1) and (l < z_size):\n",
    "            finalImage[i][j][:] = initialImage[k][l][:]\n",
    "print(\"Finished.\")"
   ]
  },
  {
   "cell_type": "code",
   "execution_count": 48,
   "id": "80ebd740-b101-4511-8f76-7a3904557297",
   "metadata": {},
   "outputs": [],
   "source": [
    "outputImage = Im.fromarray(finalImage[0][0][:], mode=\"RGB\")\n",
    "outputImage.show()"
   ]
  },
  {
   "cell_type": "code",
   "execution_count": null,
   "id": "80af3e81-7e66-40cd-82e7-f89b8db9ac78",
   "metadata": {},
   "outputs": [],
   "source": []
  }
 ],
 "metadata": {
  "kernelspec": {
   "display_name": "Python 3 (ipykernel)",
   "language": "python",
   "name": "python3"
  },
  "language_info": {
   "codemirror_mode": {
    "name": "ipython",
    "version": 3
   },
   "file_extension": ".py",
   "mimetype": "text/x-python",
   "name": "python",
   "nbconvert_exporter": "python",
   "pygments_lexer": "ipython3",
   "version": "3.11.5"
  }
 },
 "nbformat": 4,
 "nbformat_minor": 5
}
