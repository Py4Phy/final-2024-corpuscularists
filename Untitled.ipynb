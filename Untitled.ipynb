{
 "cells": [
  {
   "cell_type": "code",
   "execution_count": 4,
   "id": "1cab6da1-9374-4b5c-a8b7-57b834b2bb5c",
   "metadata": {},
   "outputs": [],
   "source": [
    "# takes in the initial image and prepares it for the lensing simulation.\n",
    "# saves an array of the RGB values to a file\n",
    "\n",
    "import numpy as np\n",
    "import PIL\n",
    "from PIL import Image as Im\n",
    "\n",
    "# choose the image to use and the file to save to HERE\n",
    "image_file = 'stock-photo-young-attractive-dangerous-woman-aiming-at-gold-fish-55445056.jpg' # input file\n",
    "array_file = 'usable.npy' # 0utput file with the format .npy\n",
    "\n",
    "image = Im.open(image_file)\n",
    "image = np.array(image)\n",
    "np.save(array_file, image)"
   ]
  },
  {
   "cell_type": "code",
   "execution_count": null,
   "id": "17042d17-a2d3-4ac7-b171-20da3e7021ab",
   "metadata": {},
   "outputs": [],
   "source": []
  }
 ],
 "metadata": {
  "kernelspec": {
   "display_name": "Python 3 (ipykernel)",
   "language": "python",
   "name": "python3"
  },
  "language_info": {
   "codemirror_mode": {
    "name": "ipython",
    "version": 3
   },
   "file_extension": ".py",
   "mimetype": "text/x-python",
   "name": "python",
   "nbconvert_exporter": "python",
   "pygments_lexer": "ipython3",
   "version": "3.11.5"
  }
 },
 "nbformat": 4,
 "nbformat_minor": 5
}
