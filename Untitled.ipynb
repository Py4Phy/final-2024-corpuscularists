{
 "cells": [
  {
   "cell_type": "code",
   "execution_count": 5,
   "id": "1cab6da1-9374-4b5c-a8b7-57b834b2bb5c",
   "metadata": {},
   "outputs": [],
   "source": [
    "import numpy as np\n",
    "\n",
    "def cart2sph(x,y,z,vx,vy,vz):\n",
    "\tr = np.sqrt(x**2+y**2+z**2)\n",
    "\ttheta = np.arccos(z/r)\n",
    "\tphi = np.sign(y)*np.arccos(x/np.sqrt(x**2+y**2))\n",
    "\tvr = (x*vx + y*vy + z*vz)/r\n",
    "\tvtheta = np.sum(np.array([vx,vy,vz])*np.array([np.cos(theta)*np.cos(phi),np.cos(theta)*np.sin(phi),-np.sin(theta)]))/r # come back and make these trigonometric functions into functions of x, y, z\n",
    "\tvphi = np.sum(np.array([vx,vy,vz])*np.array([-np.sin(phi),np.cos(phi),0]))/np.sqrt(x**2 + y**2)\n",
    "\treturn r,theta,phi,vr,vtheta,vphi\n",
    "\n",
    "def sph2cart(r,theta,phi,vr,vtheta,vphi=0):\n",
    "\tx = r*np.sin(theta)*np.cos(phi)\n",
    "\ty = r*np.sin(theta)*np.sin(phi)\n",
    "\tz = r*np.cos(theta)\n",
    "\trho = r*np.sin(theta)\n",
    "\tvx = vr*np.sin(theta)*np.cos(phi) + r*vtheta*np.cos(theta)*np.cos(phi) - rho*vphi*np.sin(phi)\n",
    "\tvy = vr*np.sin(theta)*np.sin(phi) + r*vtheta*np.cos(theta)*np.sin(phi) + rho*vphi*np.cos(phi)\n",
    "\tvz = vr*np.cos(theta) - np.sin(theta)\n",
    "\treturn x,y,z,vx,vy,vz"
   ]
  },
  {
   "cell_type": "code",
   "execution_count": 6,
   "id": "17042d17-a2d3-4ac7-b171-20da3e7021ab",
   "metadata": {},
   "outputs": [
    {
     "data": {
      "text/plain": [
       "(1.0, 1.5707963267948966, 0.0, 0.0, 1.0, 0.0)"
      ]
     },
     "execution_count": 6,
     "metadata": {},
     "output_type": "execute_result"
    }
   ],
   "source": [
    "cart2sph(1,0,0,0,0,-1)"
   ]
  },
  {
   "cell_type": "code",
   "execution_count": 7,
   "id": "53c9ad19-7443-4e9a-b40f-bd3829151983",
   "metadata": {},
   "outputs": [
    {
     "data": {
      "text/plain": [
       "(1.0, 0.0, 6.123233995736766e-17, 6.123233995736766e-17, 0.0, -1.0)"
      ]
     },
     "execution_count": 7,
     "metadata": {},
     "output_type": "execute_result"
    }
   ],
   "source": [
    "sph2cart(1.0, 1.5707963267948966, 0.0, 0.0, 1.0, 0.0)"
   ]
  },
  {
   "cell_type": "code",
   "execution_count": null,
   "id": "377b689a-be20-4c1d-85c2-64f2d55a9214",
   "metadata": {},
   "outputs": [],
   "source": [
    "cart2sph(np.cos(np.pi/4),0,np.sin(np.pi/4),np.cos(np.pi/4),0,np.sin(np.pi/4))"
   ]
  }
 ],
 "metadata": {
  "kernelspec": {
   "display_name": "Python 3 (ipykernel)",
   "language": "python",
   "name": "python3"
  },
  "language_info": {
   "codemirror_mode": {
    "name": "ipython",
    "version": 3
   },
   "file_extension": ".py",
   "mimetype": "text/x-python",
   "name": "python",
   "nbconvert_exporter": "python",
   "pygments_lexer": "ipython3",
   "version": "3.11.5"
  }
 },
 "nbformat": 4,
 "nbformat_minor": 5
}
